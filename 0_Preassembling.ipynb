{
 "cells": [
  {
   "cell_type": "markdown",
   "metadata": {},
   "source": [
    "# Pre-Assembling"
   ]
  },
  {
   "cell_type": "markdown",
   "metadata": {},
   "source": [
    "### --- Libraries importieren ---"
   ]
  },
  {
   "cell_type": "code",
   "execution_count": null,
   "metadata": {},
   "outputs": [],
   "source": [
    "import pandas as pd\n",
    "import numpy as np\n",
    "import anndata as ad\n",
    "import re\n",
    "import csv\n",
    "\n",
    "from scipy.sparse import coo_matrix\n",
    "from scipy.io import mmwrite\n",
    "from pathlib import Path\n",
    "\n",
    "import sctoolbox\n",
    "import sctoolbox.utils as utils\n",
    "import sctoolbox.utils.assemblers as assembler"
   ]
  },
  {
   "cell_type": "markdown",
   "metadata": {},
   "source": [
    "### --- Datei einlesen ---"
   ]
  },
  {
   "cell_type": "code",
   "execution_count": null,
   "metadata": {},
   "outputs": [],
   "source": [
    "file_path_pat = \"/mnt/workspace_stud/napkon_data/wp2_rna/out.txt\"\n",
    "file_path_gene = \"/mnt/workspace_stud/napkon_data/wp2_rna/combined_rna_napkon_4_all.matrix.raw.anno\"\n",
    "\n",
    "\n",
    "path_mtx = str(Path.cwd()) # Aktueller Speicherort/Verzeichnis mit .mtx, barcodes.tsv und genes.tsv\n",
    "print(path_mtx)"
   ]
  },
  {
   "cell_type": "markdown",
   "metadata": {},
   "source": [
    "### 1. --- Patienten-Metadaten lesen und vorbereiten für Assemblierung ---"
   ]
  },
  {
   "cell_type": "code",
   "execution_count": null,
   "metadata": {},
   "outputs": [],
   "source": [
    "pat_df = pd.read_csv(file_path_pat, decimal=\",\", sep=\"\\t\")\n",
    "pat_df.head()"
   ]
  },
  {
   "cell_type": "code",
   "execution_count": null,
   "metadata": {},
   "outputs": [],
   "source": [
    "pat_df[\"rna project.run id\"] # ID überprüfen"
   ]
  },
  {
   "cell_type": "code",
   "execution_count": null,
   "metadata": {},
   "outputs": [],
   "source": [
    "# optional: Patienten-Datei im lokalen Speicherort abspeichern\n",
    "# pat_df.to_csv('pat_meta.csv', index=False) "
   ]
  },
  {
   "cell_type": "markdown",
   "metadata": {},
   "source": [
    "### 2. --- Gen-Metadaten lesen und vorbereiten für Assemblierung ---"
   ]
  },
  {
   "cell_type": "code",
   "execution_count": null,
   "metadata": {},
   "outputs": [],
   "source": [
    "data = []\n",
    "\n",
    "with open(file_path_gene, 'r') as file:\n",
    "    content = file.read()\n",
    "    lines = content.splitlines()\n",
    "\n",
    "    header = lines[0].split('\\t')\n",
    "\n",
    "    for line in lines[1:]:\n",
    "        elements = line.split('\\t')\n",
    "        data.append(elements)\n",
    "\n",
    "gene_df = pd.DataFrame(data, columns=header)\n",
    "gene_df.head()"
   ]
  },
  {
   "cell_type": "code",
   "execution_count": null,
   "metadata": {},
   "outputs": [],
   "source": [
    "gene_df.to_csv('gene_meta.csv', index=False) # Gen-Datei speichern"
   ]
  },
  {
   "cell_type": "code",
   "execution_count": null,
   "metadata": {},
   "outputs": [],
   "source": [
    "features = gene_df.iloc[:, 0:18] # Auswahl der ersten 18 Spalten -> die Gene ids und Spalten mit Metadaten \n",
    "features.head()"
   ]
  },
  {
   "cell_type": "code",
   "execution_count": null,
   "metadata": {},
   "outputs": [],
   "source": [
    "features.to_csv(\"variables.tsv\", sep=\"\\t\", index=False, header=False) # Variables-Datei speichern"
   ]
  },
  {
   "cell_type": "markdown",
   "metadata": {},
   "source": [
    "### 3. --- Barcodes Datei aus Patienten-Metadaten erstellen ---"
   ]
  },
  {
   "cell_type": "code",
   "execution_count": null,
   "metadata": {},
   "outputs": [],
   "source": [
    "# Barcodes-Datei (Patienten + Metadaten)\n",
    "\n",
    "patient_ids = gene_df.columns[18:]  # Patienten-Spalten starten ab Spalte 18 \n",
    "patient_ids"
   ]
  },
  {
   "cell_type": "code",
   "execution_count": null,
   "metadata": {},
   "outputs": [],
   "source": [
    "barcodes = pd.DataFrame({\n",
    "    \"rna project.run id\": patient_ids # Benennung der Spalte in barcodes.tsv mit \"rna project.run id\"\n",
    "}).merge(pat_df, left_on=\"rna project.run id\", right_on=\"rna project.run id\", how=\"left\")  # Metadaten anfügen\n",
    "barcodes.to_csv(\"barcodes.tsv\", sep=\"\\t\", index=False, header=False)\n",
    "\n",
    "barcodes.head()"
   ]
  },
  {
   "cell_type": "code",
   "execution_count": null,
   "metadata": {},
   "outputs": [],
   "source": [
    "barcodes = pd.read_csv(\"barcodes.tsv\", decimal=\".\", sep=\"\\t\") # Barcodes-Datei speichern"
   ]
  },
  {
   "cell_type": "markdown",
   "metadata": {},
   "source": [
    "### 4. --- Count-Matrix erstellen aus Gen-Metadaten ---"
   ]
  },
  {
   "cell_type": "code",
   "execution_count": null,
   "metadata": {},
   "outputs": [],
   "source": [
    "counts = gene_df.iloc[:, 18:].fillna(0) # Zählwerte extrahieren und NaN durch 0 ersetzen\n",
    "counts"
   ]
  },
  {
   "cell_type": "code",
   "execution_count": null,
   "metadata": {},
   "outputs": [],
   "source": [
    "sparse_matrix = coo_matrix(counts.values) # Sparse-Matrix erstellen\n",
    "sparse_matrix"
   ]
  },
  {
   "cell_type": "code",
   "execution_count": null,
   "metadata": {},
   "outputs": [],
   "source": [
    "mmwrite(\"matrix.mtx\", sparse_matrix) # MTX-Datei speichern"
   ]
  },
  {
   "cell_type": "markdown",
   "metadata": {},
   "source": [
    "### 5. --- Anndata-Objekt aus .mtx, barcodes.tsv und genes.tsv erstellen ---"
   ]
  },
  {
   "cell_type": "code",
   "execution_count": null,
   "metadata": {},
   "outputs": [],
   "source": [
    "mtx_tsv = 'matrix.mtx' # Datei, die die Counts enthält\n",
    "barcodes_tsv = 'barcodes.tsv' # Datei, die Barcode-Informationen enthält\n",
    "variables_tsv = 'variables.tsv' # Datei, die variable Informationen enthält"
   ]
  },
  {
   "cell_type": "code",
   "execution_count": null,
   "metadata": {},
   "outputs": [],
   "source": [
    "print(pat_df.shape, barcodes.shape, gene_df.shape, features.shape) # Shape überprüfen"
   ]
  },
  {
   "cell_type": "code",
   "execution_count": null,
   "metadata": {},
   "outputs": [],
   "source": [
    "if path_mtx:\n",
    "    adata = assembler.from_mtx(path_mtx, mtx=mtx_tsv, barcodes=barcodes_tsv, variables=variables_tsv)"
   ]
  },
  {
   "cell_type": "markdown",
   "metadata": {},
   "source": [
    "### 6. --- AnnData vorbereiten ---"
   ]
  },
  {
   "cell_type": "code",
   "execution_count": null,
   "metadata": {},
   "outputs": [],
   "source": [
    "# Adata Obs einen Header hinzufügren\n",
    "adata.obs_names.name = 'rna project.run id'\n",
    "obs_columns_list = pat_df.columns.tolist()\n",
    "obs_columns_list.remove('rna project.run id')\n",
    "obs_columns_list.append('filename') # möglicherweise muss die komplette Spalte raus\n",
    "obs_columns_list.append('rel_path') # möglicherweise muss die komplette Spalte raus\n",
    "obs_header = obs_columns_list\n",
    "adata.obs.columns = obs_header"
   ]
  },
  {
   "cell_type": "code",
   "execution_count": null,
   "metadata": {},
   "outputs": [],
   "source": [
    "var_header = features.columns.tolist()\n",
    "adata.var.columns = var_header\n",
    "adata.var_names.name = \"Ensembl gene id\""
   ]
  },
  {
   "cell_type": "code",
   "execution_count": null,
   "metadata": {},
   "outputs": [],
   "source": [
    "pat_df.columns.tolist()"
   ]
  },
  {
   "cell_type": "code",
   "execution_count": null,
   "metadata": {},
   "outputs": [],
   "source": [
    "# .obs-Spaltennamen, die gelöscht werden sollen\n",
    "drop_obs = []\n",
    "\n",
    "# .obs-Spaltennamen, die geändert werden sollen. z.B. \"old_name\": \"new_name\"\n",
    "# Beispiel: \"old_name\" = \"rna usable sample: mapped reads > 2000000\" -> Regex bevorzugt\n",
    "rename_obs = {} \n",
    "\n",
    "# .var-Spaltennamen, die gelöscht werden sollen\n",
    "drop_var = []\n",
    "\n",
    "# .var-Spaltennamen, die geändert werden sollen. z.B. \"old_name\": \"new_name\"\n",
    "rename_var = {}"
   ]
  },
  {
   "cell_type": "code",
   "execution_count": null,
   "metadata": {},
   "outputs": [],
   "source": [
    "# Änderungen an .obs-Spaltennamen in eine Kopie absspeichern\n",
    "obs = adata.obs.copy()\n",
    "\n",
    "obs.drop(columns=drop_obs, inplace=True)\n",
    "obs.rename(columns=rename_obs, errors='raise', inplace=True)\n",
    "\n",
    "# Änderungen an .var-Spaltennamen in eine Kopie absspeichern\n",
    "var = adata.var.copy()\n",
    "\n",
    "var.drop(columns=drop_var, inplace=True)\n",
    "var.rename(columns=rename_var, errors='raise', inplace=True)\n",
    "\n",
    "# Änderungen an AnnData anwenden\n",
    "adata.obs = obs\n",
    "adata.var = var"
   ]
  },
  {
   "cell_type": "markdown",
   "metadata": {},
   "source": [
    "### 7. --- AnnData-Objekt speichern ---"
   ]
  },
  {
   "cell_type": "code",
   "execution_count": null,
   "metadata": {},
   "outputs": [],
   "source": [
    "display(adata) # Übersicht"
   ]
  },
  {
   "cell_type": "code",
   "execution_count": null,
   "metadata": {},
   "outputs": [],
   "source": [
    "adata_output = \"anndata_1.h5ad\"\n",
    "utils.adata.save_h5ad(adata, adata_output) # speichern"
   ]
  },
  {
   "cell_type": "code",
   "execution_count": null,
   "metadata": {},
   "outputs": [],
   "source": [
    "sctoolbox.settings.close_logfile()"
   ]
  }
 ],
 "metadata": {
  "kernelspec": {
   "display_name": "sctoolbox",
   "language": "python",
   "name": "python3"
  },
  "language_info": {
   "codemirror_mode": {
    "name": "ipython",
    "version": 3
   },
   "file_extension": ".py",
   "mimetype": "text/x-python",
   "name": "python",
   "nbconvert_exporter": "python",
   "pygments_lexer": "ipython3",
   "version": "3.12.7"
  }
 },
 "nbformat": 4,
 "nbformat_minor": 2
}
